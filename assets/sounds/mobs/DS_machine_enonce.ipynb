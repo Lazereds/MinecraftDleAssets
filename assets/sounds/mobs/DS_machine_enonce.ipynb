{
 "cells": [
  {
   "cell_type": "markdown",
   "metadata": {},
   "source": [
    "<table style=\"width:100%;\">\n",
    "    <tr style=\"display:none\">\n",
    "        <td></td>\n",
    "        <td></td>\n",
    "    </tr>\n",
    "    <tr style=\"height:3em\">\n",
    "        <td style=\"width:60%;font: bold 2.5em 'Fira Sans', serif;text-align:center\"> DS machine  - R2.09 Méthodes numériques<br>\n",
    "        Durée 45 minutes<br>\n",
    "        <br>\n",
    "        Aucun document n'est autorisé (notebook, site web, IA, ...)\n",
    "        <br>\n",
    "        Le sujet est constitué de deux parties indépendantes\n",
    "        </td>\n",
    "    </tr>\n",
    "</table>\n",
    "\n",
    "<center>\n",
    "\n"
   ]
  },
  {
   "cell_type": "markdown",
   "metadata": {},
   "source": [
    "<center>\n",
    "\n",
    "# &#10027; Première partie avec Python sans bibliothèque &#10027;\n",
    "</center>\n",
    "<hr>\n",
    "\n",
    "Une étudiante en licence de mathématiques a assisté au cours sur l'interpolation polynomiale et elle doit en faire une synthèse à une camarade de promotion qui était absente ce jour-là.\n",
    "\n",
    "Elle lui explique tout d'abord que le nombre de points d'interpolation, distincts deux à deux, détermine le degré du polynôme dont on cherche l'expression.\n",
    "\n",
    "Elle lui donne alors des exemples de polynômes qui peuvent être de bons candidats pour une liste de points donnés."
   ]
  },
  {
   "cell_type": "markdown",
   "metadata": {},
   "source": [
    "1) Ecrire une fonction `polynome_candidat_degre` qui prend en paramètres une liste `liste_abs_points` contenant les abscisses des points d'interpolation, un entier `degre_polynome` associé au degré d'un polynôme candidat pour l'interpolation et renvoie un booléen indiquant si un polynôme de degré `degre_polynome` est un candidat cohérent pour l'interpolation de ces points.\n",
    "\n",
    "Vous écrirez aussi trois tests unitaires pour la fonction implémentée \n",
    "- un premier pour un polynôme constant, \n",
    "- un second pour un polynôme de degré deux \n",
    "- le dernier pour $P(x) = 2 +x^4$ )."
   ]
  },
  {
   "cell_type": "code",
   "execution_count": null,
   "metadata": {},
   "outputs": [],
   "source": [
    "def polynome_candidat_degre(liste_abs_points, degre_polynome):\n",
    "    pass"
   ]
  },
  {
   "cell_type": "code",
   "execution_count": null,
   "metadata": {},
   "outputs": [],
   "source": [
    "#tests unitaires"
   ]
  },
  {
   "cell_type": "markdown",
   "metadata": {},
   "source": [
    "Maintenant, elle lui propose des séries de trois polynômes sous forme développée dont **le degré attendu est correct** en regard du nombre de points d'interpolation donnés et lui demande de trouver, parmi les trois, quel est le polynôme interpolateur.\n",
    "\n",
    "2) Ecrire une fonction `polynome_candidat_expression` qui prend en paramètres deux listes `liste_points` et `coefficients_polynome` et qui teste si le polynôme proposé est le polynôme d'interpolation pour les points donnés.\n",
    "\n",
    "Pour le polynôme $P$ défini par $P(x) = 3 - 4x + 2x^3$, il vient `coefficients_polynome = [3,-4,0,2]`\n",
    "\n",
    "Pour les points $(-1,2)$ et $(4,7)$, il vient `liste_points = [(-1,2),(4,7)]` où `liste_points` est une liste de tuples.\n",
    "\n",
    "\n",
    "Rappel: pour l'exemple ci-dessus, `liste_points[0][0]` renvoie `-1` et `liste_points[1][0]` renvoie `4`."
   ]
  },
  {
   "cell_type": "code",
   "execution_count": null,
   "metadata": {},
   "outputs": [],
   "source": [
    "def polynome_candidat_expression(liste_points,coefficients_polynome):\n",
    "    pass\n",
    "  \n",
    "\n",
    "\n",
    "# (0,1) et (1,3) avec comme candidat P(x)= 2x+1\n",
    "assert(polynome_candidat_expression([(0,1),(1,3)],[1,2]) == True)\n",
    "# (0,1) et (1,3) avec comme candidat P(x)= -1/3x+1\n",
    "assert(polynome_candidat_expression([(0,1),(1,3)],[1,-1/3]) == False)          \n",
    "# (0,1) et (3,0) avec comme candidat P(x)= -1/3x+1\n",
    "assert(polynome_candidat_expression([(0,1),(3,0)],[1,-1/3]) == True)\n",
    "\n",
    "\n",
    "# (-3,4), (0,-2) et (2,4) avec comme candidat P(x) = x**2 - x + 2\n",
    "assert(polynome_candidat_expression([(-3,4), (0,-2),( 2,4)],[2,-1,1]) == False)\n",
    "# (-3,4), (0,-2) et (2,4) avec comme candidat P(x) = x**2 + x -2\n",
    "assert(polynome_candidat_expression([(-3,4), (0,-2),( 2,4)],[-2,1,1]) == True)\n",
    "# (-3,4), (0,-2) et (2,4) avec comme candidat P(x) = -x**2 - x + 2\n",
    "assert(polynome_candidat_expression([(-3,4), (0,-2),( 2,4)],[2,-1,-1]) == False)"
   ]
  },
  {
   "cell_type": "markdown",
   "metadata": {},
   "source": [
    "<center>\n",
    "\n",
    "# &#10027; Deuxième partie  avec Sympy &#10027;\n",
    "</center>\n",
    "<hr>"
   ]
  },
  {
   "cell_type": "markdown",
   "metadata": {},
   "source": [
    "## &#10027; Interpolation polynomiale à trois points\n",
    "\n",
    "Par trois points $(x_0,y_0)$, $(x_1,y_1)$ et $(x_2,y_2)$ distincts deux à deux et non alignés passe une unique parabole.\n",
    "\t\n",
    "L'expression du polynôme de degré 2 correspondant sera cherchée sous la forme \n",
    "    \n",
    "$$ P(x) = a_0 + a_1 \\times x + a_2 \\times x^2.$$\n",
    "\n",
    "1) Déclarer l'ensemble des variables symboliques citées dans l'énoncé et déterminer l'expression générale du polynôme `P` en utilisant les variables symboliques.\n"
   ]
  },
  {
   "cell_type": "code",
   "execution_count": null,
   "metadata": {},
   "outputs": [],
   "source": [
    "import sympy as sp"
   ]
  },
  {
   "cell_type": "markdown",
   "metadata": {},
   "source": [
    "2) Ecrire les équations à résoudre afin de déterminer $a_0$, $a_1$ et $a_2$."
   ]
  },
  {
   "cell_type": "code",
   "execution_count": null,
   "metadata": {},
   "outputs": [],
   "source": []
  },
  {
   "cell_type": "markdown",
   "metadata": {},
   "source": [
    "3. Résoudre le système linéaire correspondant et donner l'expression générale du polynôme interpolateur à trois points `P`.\n"
   ]
  },
  {
   "cell_type": "code",
   "execution_count": null,
   "metadata": {},
   "outputs": [],
   "source": []
  },
  {
   "cell_type": "markdown",
   "metadata": {},
   "source": [
    "4) Préciser l'expression de `P` dans le cas où  $(x_0,y_0) = (2,2)$, $(x_1,y_1)=(4,10)$ et $(x_2,y_2)=(6,4)$"
   ]
  },
  {
   "cell_type": "code",
   "execution_count": null,
   "metadata": {},
   "outputs": [],
   "source": []
  },
  {
   "cell_type": "markdown",
   "metadata": {},
   "source": [
    "## &#10027; Interpolation de Lagrange\n",
    "\n",
    "Par trois points $(x_0,y_0)$, $(x_1,y_1)$ et $(x_2,y_2)$ distincts deux à deux passe une unique parabole.\n",
    "\t\n",
    "L'expression du polynôme de degré 2 correspondant sera cherchée à l'aide des polynômes de Lagrange.\n",
    "$$\n",
    " 0\\leq i\\leq 2,\\; \\; L_i(x) = \\prod _{k \\neq i}\\left(\\dfrac{x-x_k}{x_i -x_k}\\right)\n",
    "$$"
   ]
  },
  {
   "cell_type": "markdown",
   "metadata": {},
   "source": [
    "1) Ecrire une fonction `poly_lagrange` qui prend en paramètres les abscisses des points d'interpolation, l'indice du polynôme recherché et qui renvoie l'expression `Li`."
   ]
  },
  {
   "cell_type": "code",
   "execution_count": null,
   "metadata": {},
   "outputs": [],
   "source": [
    "def poly_Lagrange(abs_points, num):\n",
    "   pass"
   ]
  },
  {
   "cell_type": "markdown",
   "metadata": {},
   "source": [
    "2) Définir et afficher `L0, L1, L2`."
   ]
  },
  {
   "cell_type": "code",
   "execution_count": null,
   "metadata": {},
   "outputs": [],
   "source": []
  },
  {
   "cell_type": "markdown",
   "metadata": {},
   "source": [
    "On souhaite vérifier une propriété fondamentale des polynômes de Lagrange, à savoir que\n",
    "\n",
    "$$\n",
    "L_i(x_j) = 1 \\;\\; si \\;\\; i = j \\;\\; et \\; \\; 0 \\; \\; sinon.\n",
    "$$\n",
    "\n",
    "3. Ecrire une fonction `kronecker` qui prend en paramètres une liste python `liste_Li` contenant les polynômes de Lagrange, un des symboles `xj` et qui renvoie la liste des images de ce dernier par chacun des polynômes.\n",
    "\n",
    "Ecrire les trois tests qui en découlent."
   ]
  },
  {
   "cell_type": "code",
   "execution_count": 3,
   "metadata": {},
   "outputs": [],
   "source": [
    "def kronecker(liste_Li, xj):\n",
    "    pass"
   ]
  },
  {
   "cell_type": "code",
   "execution_count": 4,
   "metadata": {},
   "outputs": [],
   "source": [
    "# tests"
   ]
  },
  {
   "cell_type": "markdown",
   "metadata": {},
   "source": [
    "4. Donner l'expression générale du polynôme interpolateur `P`."
   ]
  },
  {
   "cell_type": "code",
   "execution_count": null,
   "metadata": {},
   "outputs": [],
   "source": []
  },
  {
   "cell_type": "markdown",
   "metadata": {},
   "source": [
    "5. Application:\n",
    " interpolation polynomiale de la fonction $f$ définie par $f(x) = sin(x)$ pour les points d'abscisses $0,1,2$.\n",
    "\n",
    "Donner l'expression du polynôme `P` interpolant la fonction $f$ pour les points $0,1,2$"
   ]
  },
  {
   "cell_type": "code",
   "execution_count": null,
   "metadata": {},
   "outputs": [],
   "source": []
  },
  {
   "cell_type": "markdown",
   "metadata": {},
   "source": [
    "6. Représenter sur le même graphique  et sur l'intervalle $[0,2]$ le polynôme $P$ et la fonction $f$."
   ]
  },
  {
   "cell_type": "code",
   "execution_count": null,
   "metadata": {},
   "outputs": [],
   "source": []
  }
 ],
 "metadata": {
  "kernelspec": {
   "display_name": "Python 3",
   "language": "python",
   "name": "python3"
  },
  "language_info": {
   "codemirror_mode": {
    "name": "ipython",
    "version": 3
   },
   "file_extension": ".py",
   "mimetype": "text/x-python",
   "name": "python",
   "nbconvert_exporter": "python",
   "pygments_lexer": "ipython3",
   "version": "3.10.12"
  }
 },
 "nbformat": 4,
 "nbformat_minor": 2
}
